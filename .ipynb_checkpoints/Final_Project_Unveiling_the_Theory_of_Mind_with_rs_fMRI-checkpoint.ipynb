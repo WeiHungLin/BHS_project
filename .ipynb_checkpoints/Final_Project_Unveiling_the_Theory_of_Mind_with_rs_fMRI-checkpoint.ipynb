{
 "cells": [
  {
   "cell_type": "markdown",
   "metadata": {
    "id": "NH7Nu32A1xtR",
    "slideshow": {
     "slide_type": "slide"
    }
   },
   "source": [
    "Unveiling Children's Theory of Mind with rs-fMRI\n",
    "===\n",
    "\n",
    "Syuan-Yu Lin (Psychology)\n",
    "\n",
    "Wei-Hung Lin (Psychology)\n",
    "\n",
    "National Taiwan University, Taiwan Hub\n",
    "\n",
    "Keywords:\n",
    "Theory of Mind, Resting-State fMRI, Machine Learning"
   ]
  },
  {
   "cell_type": "markdown",
   "metadata": {
    "id": "ndgfuFfEucvS",
    "slideshow": {
     "slide_type": "slide"
    }
   },
   "source": [
    "## Outline\n",
    "\n",
    "* Background\n",
    "\n",
    "* Tools\n",
    "\n",
    "* Data\n",
    "\n",
    "* Results\n",
    "\n",
    "* Future Direction\n",
    "\n",
    "* Conclusion\n",
    "\n",
    "* References"
   ]
  },
  {
   "cell_type": "markdown",
   "metadata": {
    "id": "jb_K8GOR7Fa3",
    "slideshow": {
     "slide_type": "slide"
    }
   },
   "source": [
    "# Theory of Mind (ToM)\n",
    "\n",
    "* Theory of mind refers to the ability to understand people's mental states and use them to predict people's behaviors.\n",
    "\n",
    "* This ability plays a crucial role in social interactions, communication, and cognitive development.\n",
    "\n",
    "* Theory of mind enables individuals to infer meaning beyond literal expressions and understand the underlying intentions and beliefs."
   ]
  },
  {
   "cell_type": "markdown",
   "metadata": {
    "id": "M7d6kYAlOFWa",
    "slideshow": {
     "slide_type": "slide"
    }
   },
   "source": [
    "# Project Goal\n",
    "\n",
    "* The previous study showed that the strength of functional connectivity was modulated by the degree of ToM ability (Marchetti et al., 2015).\n",
    "\n",
    "* We might be able to use children's functional connectivity signature to predict their ToM ability.\n",
    "\n",
    "* This project aims to predict children's ability of ToM with the rs-fMRI."
   ]
  },
  {
   "cell_type": "markdown",
   "metadata": {
    "id": "m_WWdDkoG2HT",
    "slideshow": {
     "slide_type": "slide"
    }
   },
   "source": [
    "# Tools\n",
    "* Data Visualization (matplotlib)\n",
    "* Machine learning packages (nilearn, scikit-learn)\n",
    "* VS Code, Google Colab"
   ]
  },
  {
   "cell_type": "markdown",
   "metadata": {
    "slideshow": {
     "slide_type": "slide"
    }
   },
   "source": [
    "# Data"
   ]
  },
  {
   "cell_type": "markdown",
   "metadata": {
    "id": "NlJdWsMUAiCS",
    "slideshow": {
     "slide_type": "skip"
    }
   },
   "source": [
    "%matplotlib inline"
   ]
  },
  {
   "cell_type": "code",
   "execution_count": 1,
   "metadata": {
    "colab": {
     "base_uri": "https://localhost:8080/"
    },
    "id": "R_AwP3di-hGW",
    "outputId": "53cc8fda-fbc5-4d06-8dd4-6b6add7920b2",
    "slideshow": {
     "slide_type": "skip"
    }
   },
   "outputs": [
    {
     "name": "stdout",
     "output_type": "stream",
     "text": [
      "Requirement already satisfied: nilearn in /Users/linweihung/opt/anaconda3/lib/python3.9/site-packages (0.9.2)\n",
      "Requirement already satisfied: joblib>=0.15 in /Users/linweihung/opt/anaconda3/lib/python3.9/site-packages (from nilearn) (1.1.1)\n",
      "Requirement already satisfied: numpy>=1.18 in /Users/linweihung/opt/anaconda3/lib/python3.9/site-packages (from nilearn) (1.23.5)\n",
      "Requirement already satisfied: requests>=2 in /Users/linweihung/opt/anaconda3/lib/python3.9/site-packages (from nilearn) (2.28.1)\n",
      "Requirement already satisfied: lxml in /Users/linweihung/opt/anaconda3/lib/python3.9/site-packages (from nilearn) (4.9.1)\n",
      "Requirement already satisfied: nibabel>=3.0.0 in /Users/linweihung/opt/anaconda3/lib/python3.9/site-packages (from nilearn) (5.0.1)\n",
      "Requirement already satisfied: scikit-learn>=0.22 in /Users/linweihung/opt/anaconda3/lib/python3.9/site-packages (from nilearn) (1.2.2)\n",
      "Requirement already satisfied: scipy>=1.5 in /Users/linweihung/opt/anaconda3/lib/python3.9/site-packages (from nilearn) (1.10.1)\n",
      "Requirement already satisfied: pandas>=1.0 in /Users/linweihung/opt/anaconda3/lib/python3.9/site-packages (from nilearn) (1.5.3)\n",
      "Requirement already satisfied: packaging>=17 in /Users/linweihung/opt/anaconda3/lib/python3.9/site-packages (from nibabel>=3.0.0->nilearn) (23.0)\n",
      "Requirement already satisfied: setuptools in /Users/linweihung/opt/anaconda3/lib/python3.9/site-packages (from nibabel>=3.0.0->nilearn) (67.6.1)\n",
      "Requirement already satisfied: python-dateutil>=2.8.1 in /Users/linweihung/opt/anaconda3/lib/python3.9/site-packages (from pandas>=1.0->nilearn) (2.8.2)\n",
      "Requirement already satisfied: pytz>=2020.1 in /Users/linweihung/opt/anaconda3/lib/python3.9/site-packages (from pandas>=1.0->nilearn) (2022.7)\n",
      "Requirement already satisfied: certifi>=2017.4.17 in /Users/linweihung/opt/anaconda3/lib/python3.9/site-packages (from requests>=2->nilearn) (2022.12.7)\n",
      "Requirement already satisfied: urllib3<1.27,>=1.21.1 in /Users/linweihung/opt/anaconda3/lib/python3.9/site-packages (from requests>=2->nilearn) (1.26.15)\n",
      "Requirement already satisfied: idna<4,>=2.5 in /Users/linweihung/opt/anaconda3/lib/python3.9/site-packages (from requests>=2->nilearn) (3.4)\n",
      "Requirement already satisfied: charset-normalizer<3,>=2 in /Users/linweihung/opt/anaconda3/lib/python3.9/site-packages (from requests>=2->nilearn) (2.0.4)\n",
      "Requirement already satisfied: threadpoolctl>=2.0.0 in /Users/linweihung/opt/anaconda3/lib/python3.9/site-packages (from scikit-learn>=0.22->nilearn) (2.2.0)\n",
      "Requirement already satisfied: six>=1.5 in /Users/linweihung/opt/anaconda3/lib/python3.9/site-packages (from python-dateutil>=2.8.1->pandas>=1.0->nilearn) (1.16.0)\n"
     ]
    },
    {
     "name": "stderr",
     "output_type": "stream",
     "text": [
      "/Users/linweihung/opt/anaconda3/lib/python3.9/site-packages/nilearn/input_data/__init__.py:27: FutureWarning: The import path 'nilearn.input_data' is deprecated in version 0.9. Importing from 'nilearn.input_data' will be possible at least until release 0.13.0. Please import from 'nilearn.maskers' instead.\n",
      "  warnings.warn(message, FutureWarning)\n"
     ]
    }
   ],
   "source": [
    "# Install the needed packages\n",
    "!pip install nilearn\n",
    "from nilearn import datasets\n",
    "from nilearn.input_data import NiftiLabelsMasker\n",
    "from nilearn.connectome import ConnectivityMeasure\n",
    "from nilearn import datasets\n",
    "import pandas as pd\n",
    "import numpy as np\n",
    "import matplotlib.pyplot as plt"
   ]
  },
  {
   "cell_type": "code",
   "execution_count": 2,
   "metadata": {
    "colab": {
     "base_uri": "https://localhost:8080/",
     "height": 502
    },
    "id": "vmZ3CXSQDyDn",
    "outputId": "c0ab7785-c135-4476-8be0-3b04f0e169ce",
    "slideshow": {
     "slide_type": "fragment"
    }
   },
   "outputs": [
    {
     "data": {
      "text/html": [
       "<div>\n",
       "<style scoped>\n",
       "    .dataframe tbody tr th:only-of-type {\n",
       "        vertical-align: middle;\n",
       "    }\n",
       "\n",
       "    .dataframe tbody tr th {\n",
       "        vertical-align: top;\n",
       "    }\n",
       "\n",
       "    .dataframe thead th {\n",
       "        text-align: right;\n",
       "    }\n",
       "</style>\n",
       "<table border=\"1\" class=\"dataframe\">\n",
       "  <thead>\n",
       "    <tr style=\"text-align: right;\">\n",
       "      <th></th>\n",
       "      <th>participant_id</th>\n",
       "      <th>Age</th>\n",
       "      <th>AgeGroup</th>\n",
       "      <th>Child_Adult</th>\n",
       "      <th>Gender</th>\n",
       "      <th>Handedness</th>\n",
       "      <th>ToM Booklet-Matched</th>\n",
       "      <th>ToM Booklet-Matched-NOFB</th>\n",
       "      <th>FB_Composite</th>\n",
       "      <th>FB_Group</th>\n",
       "      <th>WPPSI BD raw</th>\n",
       "      <th>WPPSI BD scaled</th>\n",
       "      <th>KBIT_raw</th>\n",
       "      <th>KBIT_standard</th>\n",
       "      <th>DCCS Summary</th>\n",
       "      <th>Scanlog: Scanner</th>\n",
       "      <th>Scanlog: Coil</th>\n",
       "      <th>Scanlog: Voxel slize</th>\n",
       "      <th>Scanlog: Slice Gap</th>\n",
       "    </tr>\n",
       "  </thead>\n",
       "  <tbody>\n",
       "    <tr>\n",
       "      <th>0</th>\n",
       "      <td>sub-pixar001</td>\n",
       "      <td>4.774812</td>\n",
       "      <td>4yo</td>\n",
       "      <td>child</td>\n",
       "      <td>M</td>\n",
       "      <td>R</td>\n",
       "      <td>0.80</td>\n",
       "      <td>0.736842</td>\n",
       "      <td>6</td>\n",
       "      <td>pass</td>\n",
       "      <td>22.0</td>\n",
       "      <td>13.0</td>\n",
       "      <td>NaN</td>\n",
       "      <td>NaN</td>\n",
       "      <td>3.0</td>\n",
       "      <td>3T1</td>\n",
       "      <td>7-8yo 32ch</td>\n",
       "      <td>3mm iso</td>\n",
       "      <td>0.1</td>\n",
       "    </tr>\n",
       "    <tr>\n",
       "      <th>1</th>\n",
       "      <td>sub-pixar002</td>\n",
       "      <td>4.856947</td>\n",
       "      <td>4yo</td>\n",
       "      <td>child</td>\n",
       "      <td>F</td>\n",
       "      <td>R</td>\n",
       "      <td>0.72</td>\n",
       "      <td>0.736842</td>\n",
       "      <td>4</td>\n",
       "      <td>inc</td>\n",
       "      <td>18.0</td>\n",
       "      <td>9.0</td>\n",
       "      <td>NaN</td>\n",
       "      <td>NaN</td>\n",
       "      <td>2.0</td>\n",
       "      <td>3T1</td>\n",
       "      <td>7-8yo 32ch</td>\n",
       "      <td>3mm iso</td>\n",
       "      <td>0.1</td>\n",
       "    </tr>\n",
       "    <tr>\n",
       "      <th>2</th>\n",
       "      <td>sub-pixar003</td>\n",
       "      <td>4.153320</td>\n",
       "      <td>4yo</td>\n",
       "      <td>child</td>\n",
       "      <td>F</td>\n",
       "      <td>R</td>\n",
       "      <td>0.44</td>\n",
       "      <td>0.421053</td>\n",
       "      <td>3</td>\n",
       "      <td>inc</td>\n",
       "      <td>15.0</td>\n",
       "      <td>9.0</td>\n",
       "      <td>NaN</td>\n",
       "      <td>NaN</td>\n",
       "      <td>3.0</td>\n",
       "      <td>3T1</td>\n",
       "      <td>7-8yo 32ch</td>\n",
       "      <td>3mm iso</td>\n",
       "      <td>0.1</td>\n",
       "    </tr>\n",
       "    <tr>\n",
       "      <th>3</th>\n",
       "      <td>sub-pixar004</td>\n",
       "      <td>4.473648</td>\n",
       "      <td>4yo</td>\n",
       "      <td>child</td>\n",
       "      <td>F</td>\n",
       "      <td>R</td>\n",
       "      <td>0.64</td>\n",
       "      <td>0.736842</td>\n",
       "      <td>2</td>\n",
       "      <td>fail</td>\n",
       "      <td>17.0</td>\n",
       "      <td>10.0</td>\n",
       "      <td>NaN</td>\n",
       "      <td>NaN</td>\n",
       "      <td>3.0</td>\n",
       "      <td>3T1</td>\n",
       "      <td>7-8yo 32ch</td>\n",
       "      <td>3mm iso</td>\n",
       "      <td>0.2</td>\n",
       "    </tr>\n",
       "    <tr>\n",
       "      <th>4</th>\n",
       "      <td>sub-pixar005</td>\n",
       "      <td>4.837782</td>\n",
       "      <td>4yo</td>\n",
       "      <td>child</td>\n",
       "      <td>F</td>\n",
       "      <td>R</td>\n",
       "      <td>0.60</td>\n",
       "      <td>0.578947</td>\n",
       "      <td>4</td>\n",
       "      <td>inc</td>\n",
       "      <td>13.0</td>\n",
       "      <td>5.0</td>\n",
       "      <td>NaN</td>\n",
       "      <td>NaN</td>\n",
       "      <td>2.0</td>\n",
       "      <td>3T1</td>\n",
       "      <td>7-8yo 32ch</td>\n",
       "      <td>3mm iso</td>\n",
       "      <td>0.2</td>\n",
       "    </tr>\n",
       "    <tr>\n",
       "      <th>...</th>\n",
       "      <td>...</td>\n",
       "      <td>...</td>\n",
       "      <td>...</td>\n",
       "      <td>...</td>\n",
       "      <td>...</td>\n",
       "      <td>...</td>\n",
       "      <td>...</td>\n",
       "      <td>...</td>\n",
       "      <td>...</td>\n",
       "      <td>...</td>\n",
       "      <td>...</td>\n",
       "      <td>...</td>\n",
       "      <td>...</td>\n",
       "      <td>...</td>\n",
       "      <td>...</td>\n",
       "      <td>...</td>\n",
       "      <td>...</td>\n",
       "      <td>...</td>\n",
       "      <td>...</td>\n",
       "    </tr>\n",
       "    <tr>\n",
       "      <th>117</th>\n",
       "      <td>sub-pixar118</td>\n",
       "      <td>10.500000</td>\n",
       "      <td>8-12yo</td>\n",
       "      <td>child</td>\n",
       "      <td>F</td>\n",
       "      <td>R</td>\n",
       "      <td>1.00</td>\n",
       "      <td>1.000000</td>\n",
       "      <td>6</td>\n",
       "      <td>pass</td>\n",
       "      <td>NaN</td>\n",
       "      <td>NaN</td>\n",
       "      <td>37.0</td>\n",
       "      <td>119.0</td>\n",
       "      <td>NaN</td>\n",
       "      <td>3T1</td>\n",
       "      <td>32ch adult</td>\n",
       "      <td>3.13 mm iso</td>\n",
       "      <td>None</td>\n",
       "    </tr>\n",
       "    <tr>\n",
       "      <th>118</th>\n",
       "      <td>sub-pixar119</td>\n",
       "      <td>8.620000</td>\n",
       "      <td>8-12yo</td>\n",
       "      <td>child</td>\n",
       "      <td>F</td>\n",
       "      <td>R</td>\n",
       "      <td>1.00</td>\n",
       "      <td>1.000000</td>\n",
       "      <td>5</td>\n",
       "      <td>pass</td>\n",
       "      <td>NaN</td>\n",
       "      <td>NaN</td>\n",
       "      <td>33.0</td>\n",
       "      <td>121.0</td>\n",
       "      <td>NaN</td>\n",
       "      <td>3T1</td>\n",
       "      <td>32ch adult</td>\n",
       "      <td>3.13 mm iso</td>\n",
       "      <td>None</td>\n",
       "    </tr>\n",
       "    <tr>\n",
       "      <th>119</th>\n",
       "      <td>sub-pixar120</td>\n",
       "      <td>11.480000</td>\n",
       "      <td>8-12yo</td>\n",
       "      <td>child</td>\n",
       "      <td>F</td>\n",
       "      <td>R</td>\n",
       "      <td>1.00</td>\n",
       "      <td>1.000000</td>\n",
       "      <td>5</td>\n",
       "      <td>pass</td>\n",
       "      <td>NaN</td>\n",
       "      <td>NaN</td>\n",
       "      <td>38.0</td>\n",
       "      <td>117.0</td>\n",
       "      <td>NaN</td>\n",
       "      <td>3T1</td>\n",
       "      <td>32ch adult</td>\n",
       "      <td>3.13 mm iso</td>\n",
       "      <td>None</td>\n",
       "    </tr>\n",
       "    <tr>\n",
       "      <th>120</th>\n",
       "      <td>sub-pixar121</td>\n",
       "      <td>8.760000</td>\n",
       "      <td>8-12yo</td>\n",
       "      <td>child</td>\n",
       "      <td>F</td>\n",
       "      <td>R</td>\n",
       "      <td>1.00</td>\n",
       "      <td>1.000000</td>\n",
       "      <td>6</td>\n",
       "      <td>pass</td>\n",
       "      <td>NaN</td>\n",
       "      <td>NaN</td>\n",
       "      <td>37.0</td>\n",
       "      <td>130.0</td>\n",
       "      <td>NaN</td>\n",
       "      <td>3T1</td>\n",
       "      <td>32ch adult</td>\n",
       "      <td>3.13 mm iso</td>\n",
       "      <td>None</td>\n",
       "    </tr>\n",
       "    <tr>\n",
       "      <th>121</th>\n",
       "      <td>sub-pixar122</td>\n",
       "      <td>7.210000</td>\n",
       "      <td>7yo</td>\n",
       "      <td>child</td>\n",
       "      <td>M</td>\n",
       "      <td>R</td>\n",
       "      <td>1.00</td>\n",
       "      <td>1.000000</td>\n",
       "      <td>6</td>\n",
       "      <td>pass</td>\n",
       "      <td>NaN</td>\n",
       "      <td>NaN</td>\n",
       "      <td>31.0</td>\n",
       "      <td>119.0</td>\n",
       "      <td>NaN</td>\n",
       "      <td>3T1</td>\n",
       "      <td>32ch adult</td>\n",
       "      <td>3mm iso</td>\n",
       "      <td>0.2</td>\n",
       "    </tr>\n",
       "  </tbody>\n",
       "</table>\n",
       "<p>122 rows × 19 columns</p>\n",
       "</div>"
      ],
      "text/plain": [
       "    participant_id        Age AgeGroup Child_Adult Gender Handedness  \\\n",
       "0     sub-pixar001   4.774812      4yo       child      M          R   \n",
       "1     sub-pixar002   4.856947      4yo       child      F          R   \n",
       "2     sub-pixar003   4.153320      4yo       child      F          R   \n",
       "3     sub-pixar004   4.473648      4yo       child      F          R   \n",
       "4     sub-pixar005   4.837782      4yo       child      F          R   \n",
       "..             ...        ...      ...         ...    ...        ...   \n",
       "117   sub-pixar118  10.500000   8-12yo       child      F          R   \n",
       "118   sub-pixar119   8.620000   8-12yo       child      F          R   \n",
       "119   sub-pixar120  11.480000   8-12yo       child      F          R   \n",
       "120   sub-pixar121   8.760000   8-12yo       child      F          R   \n",
       "121   sub-pixar122   7.210000      7yo       child      M          R   \n",
       "\n",
       "     ToM Booklet-Matched  ToM Booklet-Matched-NOFB  FB_Composite FB_Group  \\\n",
       "0                   0.80                  0.736842             6     pass   \n",
       "1                   0.72                  0.736842             4      inc   \n",
       "2                   0.44                  0.421053             3      inc   \n",
       "3                   0.64                  0.736842             2     fail   \n",
       "4                   0.60                  0.578947             4      inc   \n",
       "..                   ...                       ...           ...      ...   \n",
       "117                 1.00                  1.000000             6     pass   \n",
       "118                 1.00                  1.000000             5     pass   \n",
       "119                 1.00                  1.000000             5     pass   \n",
       "120                 1.00                  1.000000             6     pass   \n",
       "121                 1.00                  1.000000             6     pass   \n",
       "\n",
       "     WPPSI BD raw  WPPSI BD scaled  KBIT_raw  KBIT_standard  DCCS Summary  \\\n",
       "0            22.0             13.0       NaN            NaN           3.0   \n",
       "1            18.0              9.0       NaN            NaN           2.0   \n",
       "2            15.0              9.0       NaN            NaN           3.0   \n",
       "3            17.0             10.0       NaN            NaN           3.0   \n",
       "4            13.0              5.0       NaN            NaN           2.0   \n",
       "..            ...              ...       ...            ...           ...   \n",
       "117           NaN              NaN      37.0          119.0           NaN   \n",
       "118           NaN              NaN      33.0          121.0           NaN   \n",
       "119           NaN              NaN      38.0          117.0           NaN   \n",
       "120           NaN              NaN      37.0          130.0           NaN   \n",
       "121           NaN              NaN      31.0          119.0           NaN   \n",
       "\n",
       "    Scanlog: Scanner Scanlog: Coil Scanlog: Voxel slize Scanlog: Slice Gap  \n",
       "0                3T1    7-8yo 32ch              3mm iso                0.1  \n",
       "1                3T1    7-8yo 32ch              3mm iso                0.1  \n",
       "2                3T1    7-8yo 32ch              3mm iso                0.1  \n",
       "3                3T1    7-8yo 32ch              3mm iso                0.2  \n",
       "4                3T1    7-8yo 32ch              3mm iso                0.2  \n",
       "..               ...           ...                  ...                ...  \n",
       "117              3T1    32ch adult          3.13 mm iso               None  \n",
       "118              3T1    32ch adult          3.13 mm iso               None  \n",
       "119              3T1    32ch adult          3.13 mm iso               None  \n",
       "120              3T1    32ch adult          3.13 mm iso               None  \n",
       "121              3T1    32ch adult              3mm iso                0.2  \n",
       "\n",
       "[122 rows x 19 columns]"
      ]
     },
     "execution_count": 2,
     "metadata": {},
     "output_type": "execute_result"
    }
   ],
   "source": [
    "# import the behavioral dataset\n",
    "url = \"https://github.com/WeiHungLin/BHS_project/raw/main/participants_childrenonly.csv\"\n",
    "df_behav = pd.read_csv(url)\n",
    "df_behav"
   ]
  },
  {
   "cell_type": "code",
   "execution_count": 3,
   "metadata": {
    "slideshow": {
     "slide_type": "skip"
    }
   },
   "outputs": [],
   "source": [
    "participant_df = pd.DataFrame({\n",
    "    'Number': [122],\n",
    "    'Age Mean': [6.71],\n",
    "    'Age Range': [\"3 - 12\"],\n",
    "    'ToM Mean': [0.775],\n",
    "    'ToM Range':[\"0.24 - 1\"]\n",
    "}, index = [0])\n",
    "\n",
    "\n",
    "styled_participant_df = participant_df.style.set_properties(**{'background-color': 'lightblue',\n",
    "                                       'color': 'black',\n",
    "                                       'font-family': 'Arial',\n",
    "                                       'text-align': 'center'})"
   ]
  },
  {
   "cell_type": "markdown",
   "metadata": {
    "slideshow": {
     "slide_type": "slide"
    }
   },
   "source": [
    "# Participant"
   ]
  },
  {
   "cell_type": "code",
   "execution_count": 4,
   "metadata": {
    "slideshow": {
     "slide_type": "fragment"
    }
   },
   "outputs": [
    {
     "data": {
      "text/html": [
       "<style type=\"text/css\">\n",
       "#T_57de0_row0_col0, #T_57de0_row0_col1, #T_57de0_row0_col2, #T_57de0_row0_col3, #T_57de0_row0_col4 {\n",
       "  background-color: lightblue;\n",
       "  color: black;\n",
       "  font-family: Arial;\n",
       "  text-align: center;\n",
       "}\n",
       "</style>\n",
       "<table id=\"T_57de0\">\n",
       "  <thead>\n",
       "    <tr>\n",
       "      <th class=\"blank level0\" >&nbsp;</th>\n",
       "      <th id=\"T_57de0_level0_col0\" class=\"col_heading level0 col0\" >Number</th>\n",
       "      <th id=\"T_57de0_level0_col1\" class=\"col_heading level0 col1\" >Age Mean</th>\n",
       "      <th id=\"T_57de0_level0_col2\" class=\"col_heading level0 col2\" >Age Range</th>\n",
       "      <th id=\"T_57de0_level0_col3\" class=\"col_heading level0 col3\" >ToM Mean</th>\n",
       "      <th id=\"T_57de0_level0_col4\" class=\"col_heading level0 col4\" >ToM Range</th>\n",
       "    </tr>\n",
       "  </thead>\n",
       "  <tbody>\n",
       "    <tr>\n",
       "      <th id=\"T_57de0_level0_row0\" class=\"row_heading level0 row0\" >0</th>\n",
       "      <td id=\"T_57de0_row0_col0\" class=\"data row0 col0\" >122</td>\n",
       "      <td id=\"T_57de0_row0_col1\" class=\"data row0 col1\" >6.710000</td>\n",
       "      <td id=\"T_57de0_row0_col2\" class=\"data row0 col2\" >3 - 12</td>\n",
       "      <td id=\"T_57de0_row0_col3\" class=\"data row0 col3\" >0.775000</td>\n",
       "      <td id=\"T_57de0_row0_col4\" class=\"data row0 col4\" >0.24 - 1</td>\n",
       "    </tr>\n",
       "  </tbody>\n",
       "</table>\n"
      ],
      "text/plain": [
       "<pandas.io.formats.style.Styler at 0x7fe4c86b70a0>"
      ]
     },
     "execution_count": 4,
     "metadata": {},
     "output_type": "execute_result"
    }
   ],
   "source": [
    "styled_participant_df"
   ]
  },
  {
   "cell_type": "code",
   "execution_count": 5,
   "metadata": {
    "colab": {
     "base_uri": "https://localhost:8080/"
    },
    "id": "jUNRDj_pc44Z",
    "outputId": "b44ae641-976d-4292-cad5-36d649c66e10",
    "slideshow": {
     "slide_type": "skip"
    }
   },
   "outputs": [],
   "source": [
    "# fetch the preprocessed rs-fMRI dataset\n",
    "data = datasets.fetch_development_fmri()"
   ]
  },
  {
   "cell_type": "code",
   "execution_count": 6,
   "metadata": {
    "colab": {
     "base_uri": "https://localhost:8080/"
    },
    "id": "0MiCgzwod8Bp",
    "outputId": "f1c55248-faed-4dde-ea60-305f6b0a3eb8",
    "slideshow": {
     "slide_type": "skip"
    }
   },
   "outputs": [
    {
     "data": {
      "text/plain": [
       "155"
      ]
     },
     "execution_count": 6,
     "metadata": {},
     "output_type": "execute_result"
    }
   ],
   "source": [
    "# Check the dataset size\n",
    "len(data.func)"
   ]
  },
  {
   "cell_type": "code",
   "execution_count": 7,
   "metadata": {
    "colab": {
     "base_uri": "https://localhost:8080/"
    },
    "id": "-UST4xmmeRA9",
    "outputId": "5d7f2441-a9d6-46c6-af2e-f17da529a2e4",
    "slideshow": {
     "slide_type": "skip"
    }
   },
   "outputs": [],
   "source": [
    "# Retrieve the atlas for extracting features\n",
    "parcellations = datasets.fetch_atlas_basc_multiscale_2015()\n",
    "atlas_filename = parcellations.scale064\n",
    "\n",
    "masker = NiftiLabelsMasker(labels_img = atlas_filename,\n",
    "                           standardize = True,\n",
    "                           memory = 'nilearn_cache',\n",
    "                           verbose = 0)\n",
    "\n",
    "correlation_measure = ConnectivityMeasure(kind='correlation',\n",
    "                      vectorize=True,\n",
    "                      discard_diagonal=True)"
   ]
  },
  {
   "cell_type": "code",
   "execution_count": null,
   "metadata": {
    "colab": {
     "base_uri": "https://localhost:8080/"
    },
    "id": "YQPGOOkCimf5",
    "outputId": "d57f013b-1f03-4acf-b64d-4eae8295c78c",
    "slideshow": {
     "slide_type": "skip"
    }
   },
   "outputs": [
    {
     "name": "stdout",
     "output_type": "stream",
     "text": [
      "finished 34 of 155\n",
      "finished 35 of 155\n",
      "finished 36 of 155\n",
      "finished 37 of 155\n",
      "finished 38 of 155\n",
      "finished 39 of 155\n",
      "finished 40 of 155\n",
      "finished 41 of 155\n",
      "finished 42 of 155\n",
      "finished 43 of 155\n",
      "finished 44 of 155\n",
      "finished 45 of 155\n",
      "finished 46 of 155\n",
      "finished 47 of 155\n",
      "finished 48 of 155\n",
      "finished 49 of 155\n",
      "finished 50 of 155\n",
      "finished 51 of 155\n",
      "finished 52 of 155\n",
      "finished 53 of 155\n",
      "finished 54 of 155\n",
      "finished 55 of 155\n",
      "finished 56 of 155\n",
      "finished 57 of 155\n",
      "finished 58 of 155\n",
      "finished 59 of 155\n",
      "finished 60 of 155\n",
      "finished 61 of 155\n",
      "finished 62 of 155\n"
     ]
    }
   ],
   "source": [
    "# Create the correlation matrix for all children\n",
    "all_features = []\n",
    "\n",
    "for i,sub in enumerate(data.func):\n",
    "  if i > 32:\n",
    "    # Extract the timeseries from the ROIs in the atlas\n",
    "    time_series = masker.fit_transform(sub, confounds = data.confounds[i])\n",
    "    # Create a correlation matrix\n",
    "    correlation_matrix = correlation_measure.fit_transform([time_series])[0]\n",
    "    # Add to the list\n",
    "    all_features.append(correlation_matrix)\n",
    "    # Kepp track of the progress\n",
    "    print('finished %s of %s'%((i+1),len(data.func)))\n",
    "  else:\n",
    "    continue\n"
   ]
  },
  {
   "cell_type": "code",
   "execution_count": null,
   "metadata": {
    "colab": {
     "base_uri": "https://localhost:8080/"
    },
    "id": "48rBi0JnlweQ",
    "outputId": "aacb7f9f-ca72-4eed-da50-56a5eb6299e2",
    "slideshow": {
     "slide_type": "skip"
    }
   },
   "outputs": [],
   "source": [
    "# Create the X variables\n",
    "X_features = np.array(all_features)\n",
    "X_features.shape"
   ]
  },
  {
   "cell_type": "code",
   "execution_count": null,
   "metadata": {
    "colab": {
     "base_uri": "https://localhost:8080/",
     "height": 489
    },
    "id": "no8TyUNVnIHI",
    "outputId": "f4284e7e-5756-4af2-aec9-8b1cbebe1821",
    "slideshow": {
     "slide_type": "skip"
    }
   },
   "outputs": [],
   "source": [
    "plt.imshow(X_features, aspect = 'auto')\n",
    "plt.colorbar()\n",
    "plt.title('feature matrix')\n",
    "plt.xlabel('features')\n",
    "plt.ylabel('subjects')"
   ]
  },
  {
   "cell_type": "code",
   "execution_count": null,
   "metadata": {
    "colab": {
     "base_uri": "https://localhost:8080/"
    },
    "id": "njGVtI4sn3FG",
    "outputId": "a53900b9-fe19-43f2-f979-8b032750a3cb",
    "slideshow": {
     "slide_type": "skip"
    }
   },
   "outputs": [],
   "source": [
    "# Look over the variable in the behavioral dataframe\n",
    "df_behav.columns"
   ]
  },
  {
   "cell_type": "code",
   "execution_count": null,
   "metadata": {
    "id": "HyBfuXQYpPsH",
    "slideshow": {
     "slide_type": "skip"
    }
   },
   "outputs": [],
   "source": [
    "# Assign the ToM score as the y variable\n",
    "y_ToM = df_behav['ToM Booklet-Matched']"
   ]
  },
  {
   "cell_type": "code",
   "execution_count": null,
   "metadata": {
    "colab": {
     "base_uri": "https://localhost:8080/",
     "height": 466
    },
    "id": "LYT868hkG-L9",
    "outputId": "76f86a98-1710-4bdd-e88e-298d4c780dae",
    "slideshow": {
     "slide_type": "slide"
    }
   },
   "outputs": [],
   "source": [
    "# Take a look at the distribution of the ToM (target variable)\n",
    "import seaborn as sns\n",
    "sns.histplot(y_ToM, kde = True, stat = \"probability\", kde_kws = dict(cut=3))"
   ]
  },
  {
   "cell_type": "code",
   "execution_count": null,
   "metadata": {
    "colab": {
     "base_uri": "https://localhost:8080/",
     "height": 520
    },
    "id": "9oIuoyZnHV4O",
    "outputId": "cf1551b6-e4fb-4aa6-9b5c-096c40ea2dec",
    "slideshow": {
     "slide_type": "skip"
    }
   },
   "outputs": [],
   "source": [
    "# Assign groups to subjects based on the ToM scores\n",
    "\n",
    "# Create a function to assign subjects to different groups based on their ToM scores\n",
    "def assign_group(score):\n",
    "    if score >= 0.2 and score < 0.4:\n",
    "        return 'Group 1'\n",
    "    elif score >= 0.4 and score < 0.6:\n",
    "        return 'Group 2'\n",
    "    elif score >= 0.6 and score < 0.8:\n",
    "        return 'Group 3'\n",
    "    elif score >= 0.8 and score <= 1.0:\n",
    "        return 'Group 4'\n",
    "    else:\n",
    "        return 'Unknown'\n",
    "\n",
    "# Add a new column 'Group' based on the 'ToM_scores' column\n",
    "df_behav[\"ToMGroup\"] = df_behav[\"ToM Booklet-Matched\"].apply(assign_group)"
   ]
  },
  {
   "cell_type": "code",
   "execution_count": null,
   "metadata": {
    "slideshow": {
     "slide_type": "slide"
    }
   },
   "outputs": [],
   "source": [
    "df_behav"
   ]
  },
  {
   "cell_type": "code",
   "execution_count": null,
   "metadata": {
    "colab": {
     "base_uri": "https://localhost:8080/"
    },
    "id": "HnuohyX6ZQNl",
    "outputId": "25177bfb-0cd4-40bf-9ca0-d5f6443b38f4",
    "slideshow": {
     "slide_type": "slide"
    }
   },
   "outputs": [],
   "source": [
    "ToM_class = df_behav[\"ToMGroup\"]\n",
    "ToM_class.value_counts()"
   ]
  },
  {
   "cell_type": "code",
   "execution_count": null,
   "metadata": {
    "colab": {
     "base_uri": "https://localhost:8080/"
    },
    "id": "2QBzlMs4VcOD",
    "outputId": "3150b937-9723-4be3-89a2-73c5c4c78011",
    "slideshow": {
     "slide_type": "skip"
    }
   },
   "outputs": [],
   "source": [
    "# Fit Machine Learning to our data\n",
    "\n",
    "from sklearn.model_selection import train_test_split\n",
    "from sklearn.model_selection import cross_val_predict, cross_val_score\n",
    "from sklearn.metrics import r2_score\n",
    "from sklearn.metrics import explained_variance_score\n",
    "from sklearn.metrics import mean_absolute_error\n",
    "from sklearn.metrics import median_absolute_error\n",
    "from sklearn.svm import SVR\n",
    "\n",
    "l_svr = SVR(kernel=\"linear\")\n",
    "\n",
    "\n",
    "X_train, X_val, y_train, y_val = train_test_split(\n",
    "    X_features, # x\n",
    "    y_ToM, # y\n",
    "    test_size = 0.3,\n",
    "    shuffle = True,  # shuffle dataset before splitting\n",
    "    stratify = ToM_class, # keep distribution of ToMclass consistent b/t train and test sets\n",
    "    random_state = 123\n",
    ")\n",
    "\n",
    "print('training: ', len(X_train),\n",
    "   'testing: ', len(X_val))"
   ]
  },
  {
   "cell_type": "code",
   "execution_count": null,
   "metadata": {
    "colab": {
     "base_uri": "https://localhost:8080/",
     "height": 466
    },
    "id": "fjzQn5zQVyZ4",
    "outputId": "6d600430-f244-4624-99a2-0912bca6399b",
    "scrolled": true,
    "slideshow": {
     "slide_type": "slide"
    }
   },
   "outputs": [],
   "source": [
    "# Visualized the distributions to be sure they are matched b/t train and test subset\n",
    "\n",
    "sns.histplot(y_train, label='train', kde = True, stat = \"probability\", kde_kws=dict(cut=3), color = 'orange')\n",
    "sns.histplot(y_val, label='test', kde=True, stat='probability', kde_kws=dict(cut=3))\n",
    "plt.legend()"
   ]
  },
  {
   "cell_type": "code",
   "execution_count": null,
   "metadata": {
    "colab": {
     "base_uri": "https://localhost:8080/"
    },
    "id": "Lmot5fJDblNs",
    "outputId": "9bf21ae1-f15e-4afd-dd7b-6b1fa3960999",
    "slideshow": {
     "slide_type": "skip"
    }
   },
   "outputs": [],
   "source": [
    "# k-fold cross validation predict\n",
    "\n",
    "l_svr.fit(X_train, y_train)\n",
    "\n",
    "y_pred = cross_val_predict(l_svr, X_train, y_train, cv = 10)\n",
    "\n",
    "acc = cross_val_score(l_svr, X_train, y_train, cv = 10)\n",
    "expvar = cross_val_score(l_svr, X_train, y_train, cv = 10, scoring = 'explained_variance')\n",
    "mae = cross_val_score(l_svr, X_train, y_train, cv = 10, scoring = 'neg_mean_absolute_error')\n",
    "medae = cross_val_score(l_svr, X_train, y_train, cv = 10, scoring = 'neg_median_absolute_error')\n",
    "\n",
    "# The model performance with training dataset\n",
    "overall_acc = r2_score(y_train, y_pred)\n",
    "overall_expvar = explained_variance_score(y_train, y_pred)\n",
    "overall_mae = mean_absolute_error(y_train, y_pred)\n",
    "overall_medae = median_absolute_error(y_train, y_pred)\n",
    "\n",
    "\n",
    "# Create a DataFrame to store the results\n",
    "results_df = pd.DataFrame({\n",
    "    'R2': [overall_acc],\n",
    "    'Explained Variance': [overall_expvar],\n",
    "    'Mean Absolute Error': [overall_mae],\n",
    "    'Median Absolute Error': [overall_medae]\n",
    "})\n",
    "\n",
    "\n",
    "styled_results_df = results_df.style.set_properties(**{'background-color': 'lightblue',\n",
    "                                       'color': 'black',\n",
    "                                       'font-family': 'Arial',\n",
    "                                       'text-align': 'center'})"
   ]
  },
  {
   "cell_type": "markdown",
   "metadata": {
    "slideshow": {
     "slide_type": "slide"
    }
   },
   "source": [
    "# Establish Model with Training Subset"
   ]
  },
  {
   "cell_type": "code",
   "execution_count": null,
   "metadata": {
    "slideshow": {
     "slide_type": "fragment"
    }
   },
   "outputs": [],
   "source": [
    "styled_results_df"
   ]
  },
  {
   "cell_type": "code",
   "execution_count": null,
   "metadata": {
    "colab": {
     "base_uri": "https://localhost:8080/"
    },
    "id": "qnT0lQjBlpRO",
    "outputId": "83572aa8-620e-4591-d3bd-91284144d61c",
    "slideshow": {
     "slide_type": "skip"
    }
   },
   "outputs": [],
   "source": [
    "# Evaluate the model with validation dataset\n",
    "y_val_pred = l_svr.predict(X_val) # classify ToM class using testing data\n",
    "acc = l_svr.score(X_val, y_val) # get accuracy (r2)\n",
    "expvar = explained_variance_score(y_val, y_val_pred) # get the explained variance\n",
    "mae = mean_absolute_error(y_val, y_val_pred) # get mean absolute error\n",
    "medae = median_absolute_error(y_val, y_val_pred) # get median absolute error\n",
    "\n",
    "print('Prediction accuracy (R2): ', acc)\n",
    "print('Explained variance: ', expvar)\n",
    "print('Mean absolute error: ', mae)\n",
    "print('Median absolute error: ', medae)\n",
    "\n",
    "# Create a DataFrame to store the results\n",
    "results_df_1 = pd.DataFrame({\n",
    "    'Predictin accuracy (R2)': [acc],\n",
    "    'Explained variance': [expvar],\n",
    "    'Mean absolute error': [mae],\n",
    "    'Median absolute error': [medae]\n",
    "})\n",
    "\n",
    "styled_results_df_1 = results_df_1.style.set_properties(**{'background-color': 'lightblue',\n",
    "                                       'color': 'black',\n",
    "                                       'font-family': 'Arial',\n",
    "                                       'text-align': 'center'})"
   ]
  },
  {
   "cell_type": "markdown",
   "metadata": {
    "slideshow": {
     "slide_type": "slide"
    }
   },
   "source": [
    "# Validate Our Model with Unseen Data"
   ]
  },
  {
   "cell_type": "code",
   "execution_count": null,
   "metadata": {
    "slideshow": {
     "slide_type": "fragment"
    }
   },
   "outputs": [],
   "source": [
    "styled_results_df_1"
   ]
  },
  {
   "cell_type": "code",
   "execution_count": null,
   "metadata": {
    "colab": {
     "base_uri": "https://localhost:8080/",
     "height": 471
    },
    "id": "9HIJdvCxdRkc",
    "outputId": "631eaafd-abac-46ca-c7df-b919bb07f7f1",
    "slideshow": {
     "slide_type": "slide"
    }
   },
   "outputs": [],
   "source": [
    "# plot result\n",
    "sns.regplot(x=y_val_pred, y=y_val, marker = 'o')\n",
    "plt.xlabel('Predicted ToM score')"
   ]
  },
  {
   "cell_type": "code",
   "execution_count": null,
   "metadata": {
    "colab": {
     "base_uri": "https://localhost:8080/"
    },
    "id": "V6KzXNWfdy3-",
    "outputId": "bd21bf7c-1600-4bf7-e1f8-5d6481c576bc",
    "slideshow": {
     "slide_type": "skip"
    }
   },
   "outputs": [],
   "source": [
    "# Access the feature importances used by the model\n",
    "l_svr.coef_"
   ]
  },
  {
   "cell_type": "code",
   "execution_count": null,
   "metadata": {
    "slideshow": {
     "slide_type": "skip"
    }
   },
   "outputs": [],
   "source": [
    "print(\"Maximum value:\", np.max(l_svr.coef_))\n",
    "print(\"Minimum value:\", np.min(l_svr.coef_))"
   ]
  },
  {
   "cell_type": "code",
   "execution_count": null,
   "metadata": {
    "colab": {
     "base_uri": "https://localhost:8080/",
     "height": 489
    },
    "id": "LWOA233Srazo",
    "outputId": "16256cba-cd6c-4187-f6e6-a195d4f2a955",
    "slideshow": {
     "slide_type": "slide"
    }
   },
   "outputs": [],
   "source": [
    "# Plot the weights to see the distribution\n",
    "plt.bar(range(l_svr.coef_.shape[-1]), l_svr.coef_[0])\n",
    "plt.title('feature importances')\n",
    "plt.xlabel('feature')\n",
    "plt.ylabel('weight')"
   ]
  },
  {
   "cell_type": "code",
   "execution_count": null,
   "metadata": {
    "colab": {
     "base_uri": "https://localhost:8080/"
    },
    "id": "AkPLsVeYsE3q",
    "outputId": "cc2957b8-8803-48cd-807b-56101c6222f8",
    "slideshow": {
     "slide_type": "skip"
    }
   },
   "outputs": [],
   "source": [
    "correlation_measure.inverse_transform(l_svr.coef_).shape"
   ]
  },
  {
   "cell_type": "code",
   "execution_count": null,
   "metadata": {
    "colab": {
     "base_uri": "https://localhost:8080/",
     "height": 824
    },
    "id": "HX3KCVzgsa85",
    "outputId": "47299359-834f-4e7d-fedf-ab3117fc883b",
    "slideshow": {
     "slide_type": "skip"
    }
   },
   "outputs": [],
   "source": [
    "from nilearn import plotting\n",
    "\n",
    "feat_exp_matrix=correlation_measure.inverse_transform(l_svr.coef_)[0]"
   ]
  },
  {
   "cell_type": "code",
   "execution_count": null,
   "metadata": {
    "slideshow": {
     "slide_type": "slide"
    }
   },
   "outputs": [],
   "source": [
    "plot_matrix = plotting.plot_matrix(feat_exp_matrix, figure = (10, 8),labels = range(feat_exp_matrix.shape[0]), reorder = False, tri = 'lower')"
   ]
  },
  {
   "cell_type": "code",
   "execution_count": null,
   "metadata": {
    "colab": {
     "base_uri": "https://localhost:8080/",
     "height": 314
    },
    "id": "wuIsOFZJs93r",
    "outputId": "864db090-17b2-45b4-a67f-7b25fec53979",
    "slideshow": {
     "slide_type": "skip"
    }
   },
   "outputs": [],
   "source": [
    "# Overall connectomes\n",
    "coords = plotting.find_parcellation_cut_coords(atlas_filename)"
   ]
  },
  {
   "cell_type": "code",
   "execution_count": null,
   "metadata": {
    "slideshow": {
     "slide_type": "slide"
    }
   },
   "outputs": [],
   "source": [
    "plotting.plot_connectome(feat_exp_matrix, coords, colorbar = True)"
   ]
  },
  {
   "cell_type": "code",
   "execution_count": null,
   "metadata": {
    "colab": {
     "base_uri": "https://localhost:8080/",
     "height": 824
    },
    "id": "raTzWCb140_b",
    "outputId": "a4dcbae9-e863-4af4-e866-cfef728e45d4",
    "slideshow": {
     "slide_type": "skip"
    }
   },
   "outputs": [],
   "source": [
    "plotting.plot_matrix(feat_exp_matrix, figure = (10, 8),\n",
    "                     labels = range(feat_exp_matrix.shape[0]),\n",
    "                     reorder = False,\n",
    "                     tri = 'lower',\n",
    "                     vmin=0.009,\n",
    "                     vmax=0.01,)"
   ]
  },
  {
   "cell_type": "code",
   "execution_count": null,
   "metadata": {
    "colab": {
     "base_uri": "https://localhost:8080/",
     "height": 314
    },
    "id": "y9YXkC5Itgho",
    "outputId": "2b1ad853-71af-4a43-a546-03f72305222f",
    "slideshow": {
     "slide_type": "slide"
    }
   },
   "outputs": [],
   "source": [
    "# Set the threshold for the displayed nodes\n",
    "plotting.plot_connectome(feat_exp_matrix, coords, colorbar = True, edge_threshold = 0.009)"
   ]
  },
  {
   "cell_type": "code",
   "execution_count": null,
   "metadata": {
    "colab": {
     "base_uri": "https://localhost:8080/",
     "height": 421
    },
    "id": "UdfuXz8at35H",
    "outputId": "f4b692e9-9ee9-4abe-cc25-460a0630044e",
    "slideshow": {
     "slide_type": "slide"
    }
   },
   "outputs": [],
   "source": [
    "plotting.view_connectome(feat_exp_matrix, coords, edge_threshold=0.009,\n",
    "                        edge_cmap='viridis')"
   ]
  },
  {
   "cell_type": "code",
   "execution_count": null,
   "metadata": {
    "colab": {
     "base_uri": "https://localhost:8080/"
    },
    "id": "9syEJLt157wK",
    "outputId": "4f9ac582-77a2-4d15-9d33-35455be2d93a",
    "slideshow": {
     "slide_type": "skip"
    }
   },
   "outputs": [],
   "source": [
    "# Find out the corresponding coordinates\n",
    "coords[[54]]"
   ]
  },
  {
   "cell_type": "markdown",
   "metadata": {
    "id": "7iy14vkwcAHv",
    "slideshow": {
     "slide_type": "slide"
    }
   },
   "source": [
    "# Future Direction\n",
    "\n",
    "* Transform the ToM score to better fit into the linear model\n",
    "* Utilize bilateral atlas to capture the association between the two hemispheres and ToM ability\n",
    "* Utilize other machine learning algorithms to confirm our present results\n",
    "* Focus on primary ROIs to gain deeper insights into the association between functional connectivity and ToM ability"
   ]
  },
  {
   "cell_type": "markdown",
   "metadata": {
    "id": "zA0vbmgxb9Ha",
    "slideshow": {
     "slide_type": "slide"
    }
   },
   "source": [
    "# Conclusion\n",
    "\n",
    "* In this exploratory project, we observe the pivotal role of OFC connections in predicting ToM ability, coherent with previous research findings (Abu-Akel & Samay-Tsoory, 2011; Leopold et al., 2012).\n",
    "\n",
    "* It is only a preliminary project. We still need to try other machine learning algorithms and more data to develop a more robust model to predict the ToM ability with functional connectivity.  \n"
   ]
  },
  {
   "cell_type": "markdown",
   "metadata": {
    "id": "qGJEgYljbZWH",
    "slideshow": {
     "slide_type": "slide"
    }
   },
   "source": [
    "# Acknowledgement\n",
    "\n",
    "* Gratitude to all the organizers, instructors, TAs, and fellow participants from all around the world who helped us learn all these cool open neuroscience tools and give us this opportunity to connect with all the great neuroscientists in the world. \n",
    "\n",
    "* Special thanks to our instructor Charlene Lee, and our TA Ingrid Chuang for their inspiring work and assistance with our project. "
   ]
  },
  {
   "cell_type": "markdown",
   "metadata": {
    "id": "kqHXapTnErtp",
    "slideshow": {
     "slide_type": "slide"
    }
   },
   "source": [
    "# Reference \n",
    "\n",
    "* Abu-Akel, A., & Shamay-Tsoory, S. (2011). Neuroanatomical and neurochemical bases of theory of mind. Neuropsychologia, 49(11), 2971-2984.\n",
    "\n",
    "* Leopold, A., Krueger, F., dal Monte, O., Pardini, M., Pulaski, S. J., Solomon, J., & Grafman, J. (2012). Damage to the left ventromedial prefrontal cortex impacts affective theory of mind. Social Cognitive and Affective Neuroscience, 7(8), 871-880.\n",
    "\n",
    "*  Marchetti, A., Baglio, F., Costantini, I., Dipasquale, O., Savazzi, F., Nemni, R., ... & Castelli, I. (2015). Theory of mind and the whole brain functional connectivity: Behavioral and neural evidences with the Amsterdam Resting State Questionnaire. Frontiers in psychology, 6, 1855."
   ]
  }
 ],
 "metadata": {
  "accelerator": "GPU",
  "celltoolbar": "Slideshow",
  "colab": {
   "gpuType": "T4",
   "provenance": []
  },
  "kernelspec": {
   "display_name": "Python 3 (ipykernel)",
   "language": "python",
   "name": "python3"
  },
  "language_info": {
   "codemirror_mode": {
    "name": "ipython",
    "version": 3
   },
   "file_extension": ".py",
   "mimetype": "text/x-python",
   "name": "python",
   "nbconvert_exporter": "python",
   "pygments_lexer": "ipython3",
   "version": "3.9.13"
  }
 },
 "nbformat": 4,
 "nbformat_minor": 1
}
